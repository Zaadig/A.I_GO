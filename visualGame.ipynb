{
  "cells": [
    {
      "cell_type": "markdown",
      "metadata": {
        "id": "mAmpFXFGRv3y"
      },
      "source": [
        "## Adaptation de namedGame à Jupyter\n",
        "\n",
        "Vous pouvez utiliser cette feuille pour visualiser un match.\n",
        "\n",
        "Pour charger vos joueurs, il faut changer leurs noms dans 'classNames' (ligne 13), comme dans 'namedGame.py'.\n",
        "\n",
        "Vous pouvez décommenter les lignes utilisant le librairie cairosvg pour générer un gif animé de votre match si vous le souhaitez (puis utilisez la ligne de commande donnée en commentaire pour transformer les PNG en GIF)."
      ]
    },
    {
      "cell_type": "code",
      "source": [
        " import  Goban \n",
        " import  GnuGo\n",
        " import myPlayer \n",
        " import myNeuralNetwork\n",
        " import myPlayer2 \n",
        " import playerInterface \n",
        " import randomPlayer\n",
        " import time\n",
        " from io import StringIO\n",
        " import  sys\n",
        " from IPython.display  import  display, HTML, clear_output"
      ],
      "metadata": {
        "id": "JpphrML0UwN9"
      },
      "execution_count": null,
      "outputs": []
    },
    {
      "cell_type": "code",
      "execution_count": null,
      "metadata": {
        "colab": {
          "base_uri": "https://localhost:8080/"
        },
        "id": "mljQ7Ze3Rv35",
        "outputId": "0b84ef60-a9e2-4c67-dd27-7e00148b4ff9"
      },
      "outputs": [
        {
          "output_type": "stream",
          "name": "stdout",
          "text": [
            "The game is setup with Carlos dos Santos playing BLACKS against Random Player playing WHITE\n",
            "Engines loaded. Ready to go.\n"
          ]
        }
      ],
      "source": [
        "b = Goban.Board()\n",
        "\n",
        "players = []\n",
        "\n",
        "#player 1\n",
        "player1 = myPlayer2.myPlayer()\n",
        "player1.newGame(Goban.Board._BLACK)\n",
        "players.append(player1)\n",
        "\n",
        "#player 2\n",
        "player2 = randomPlayer.myPlayer()\n",
        "player2.newGame(Goban.Board._BLACK)\n",
        "players.append(player2)\n",
        "\n",
        "totalTime = [0,0] # total real time for each player\n",
        "nextplayer = 0\n",
        "nextplayercolor = Goban.Board._BLACK\n",
        "nbmoves = 1\n",
        "\n",
        "outputs = [\"\",\"\"]\n",
        "sysstdout= sys.stdout\n",
        "stringio = StringIO()\n",
        "wrongmovefrom = 0\n",
        "\n",
        "print(\"The game is setup with \" + player1.getPlayerName() + \" playing BLACKS against \" + player2.getPlayerName() + \" playing WHITE\")\n",
        "print(\"Engines loaded. Ready to go.\")\n"
      ]
    },
    {
      "cell_type": "code",
      "execution_count": null,
      "metadata": {
        "id": "R_QGn3z0Rv3_",
        "outputId": "a2069d33-9a45-4927-91a8-b1ff4b882f7f",
        "colab": {
          "base_uri": "https://localhost:8080/",
          "height": 801
        }
      },
      "outputs": [
        {
          "output_type": "display_data",
          "data": {
            "text/plain": [
              "<IPython.core.display.HTML object>"
            ],
            "text/html": [
              "<svg height=\"380\"  width=\"380\" > <svg height=\"20\" width=\"380\"><text x=\"35\" y=\"18\" font-size=\"24\" font-color=\"black\">A</text><text x=\"75\" y=\"18\" font-size=\"24\" font-color=\"black\">B</text><text x=\"115\" y=\"18\" font-size=\"24\" font-color=\"black\">C</text><text x=\"155\" y=\"18\" font-size=\"24\" font-color=\"black\">D</text><text x=\"195\" y=\"18\" font-size=\"24\" font-color=\"black\">E</text><text x=\"235\" y=\"18\" font-size=\"24\" font-color=\"black\">F</text><text x=\"275\" y=\"18\" font-size=\"24\" font-color=\"black\">G</text><text x=\"315\" y=\"18\" font-size=\"24\" font-color=\"black\">H</text><text x=\"355\" y=\"18\" font-size=\"24\" font-color=\"black\">J</text></svg><svg width=\"20\" height=\"380\"><text y=\"47\" x=\"0\" font-size=\"24\" font-color=\"black\">9</text><text y=\"87\" x=\"0\" font-size=\"24\" font-color=\"black\">8</text><text y=\"127\" x=\"0\" font-size=\"24\" font-color=\"black\">7</text><text y=\"167\" x=\"0\" font-size=\"24\" font-color=\"black\">6</text><text y=\"207\" x=\"0\" font-size=\"24\" font-color=\"black\">5</text><text y=\"247\" x=\"0\" font-size=\"24\" font-color=\"black\">4</text><text y=\"287\" x=\"0\" font-size=\"24\" font-color=\"black\">3</text><text y=\"327\" x=\"0\" font-size=\"24\" font-color=\"black\">2</text><text y=\"367\" x=\"0\" font-size=\"24\" font-color=\"black\">1</text></svg> <svg x=\"20\" y=\"20\" height=\"380\" width=\"380\" > <rect x=\"0\" y=\"0\" width=\"360\" height=\"360\" fill=\"#B4927A\" />        <line x1=\"20\" y1=\"20\" x2=\"20\" y2=\"340\" stroke-width=\"4\" stroke=\"black\"/>        <line x1=\"340\" y1=\"20\" x2=\"20\" y2=\"20\" stroke-width=\"4\" stroke=\"black\"/>        <line x1=\"340\" y1=\"340\" x2=\"340\" y2=\"20\" stroke-width=\"4\" stroke=\"black\"/>        <line x1=\"20\" y1=\"340\" x2=\"340\" y2=\"340\" stroke-width=\"4\" stroke=\"black\"/><line x1=\"166.66666666666666\" y1=\"180\" x2=\"193.33333333333334\" y2=\"180\" stroke-width=\"3\" stroke=\"black\" /><line x1=\"180\" y1=\"166.66666666666666\" x2=\"180\" y2=\"193.33333333333334\" stroke-width=\"3\" stroke=\"black\" /><line x1=\"86.66666666666667\" y1=\"100\" x2=\"113.33333333333333\" y2=\"100\" stroke-width=\"3\" stroke=\"black\" /><line x1=\"100\" y1=\"86.66666666666667\" x2=\"100\" y2=\"113.33333333333333\" stroke-width=\"3\" stroke=\"black\" /><line x1=\"246.66666666666666\" y1=\"260\" x2=\"273.3333333333333\" y2=\"260\" stroke-width=\"3\" stroke=\"black\" /><line x1=\"260\" y1=\"246.66666666666666\" x2=\"260\" y2=\"273.3333333333333\" stroke-width=\"3\" stroke=\"black\" /><line x1=\"86.66666666666667\" y1=\"260\" x2=\"113.33333333333333\" y2=\"260\" stroke-width=\"3\" stroke=\"black\" /><line x1=\"100\" y1=\"246.66666666666666\" x2=\"100\" y2=\"273.3333333333333\" stroke-width=\"3\" stroke=\"black\" /><line x1=\"246.66666666666666\" y1=\"100\" x2=\"273.3333333333333\" y2=\"100\" stroke-width=\"3\" stroke=\"black\" /><line x1=\"260\" y1=\"86.66666666666667\" x2=\"260\" y2=\"113.33333333333333\" stroke-width=\"3\" stroke=\"black\" /><line x1=\"60\" y1=\"20\" x2=\"60\" y2=\"340\" stroke-width=\"2\" stroke=\"#444444\"/><line y1=\"60\" x1=\"20\" y2=\"60\" x2=\"340\" stroke-width=\"2\" stroke=\"#444444\"/><line x1=\"100\" y1=\"20\" x2=\"100\" y2=\"340\" stroke-width=\"2\" stroke=\"#444444\"/><line y1=\"100\" x1=\"20\" y2=\"100\" x2=\"340\" stroke-width=\"2\" stroke=\"#444444\"/><line x1=\"140\" y1=\"20\" x2=\"140\" y2=\"340\" stroke-width=\"2\" stroke=\"#444444\"/><line y1=\"140\" x1=\"20\" y2=\"140\" x2=\"340\" stroke-width=\"2\" stroke=\"#444444\"/><line x1=\"180\" y1=\"20\" x2=\"180\" y2=\"340\" stroke-width=\"2\" stroke=\"#444444\"/><line y1=\"180\" x1=\"20\" y2=\"180\" x2=\"340\" stroke-width=\"2\" stroke=\"#444444\"/><line x1=\"220\" y1=\"20\" x2=\"220\" y2=\"340\" stroke-width=\"2\" stroke=\"#444444\"/><line y1=\"220\" x1=\"20\" y2=\"220\" x2=\"340\" stroke-width=\"2\" stroke=\"#444444\"/><line x1=\"260\" y1=\"20\" x2=\"260\" y2=\"340\" stroke-width=\"2\" stroke=\"#444444\"/><line y1=\"260\" x1=\"20\" y2=\"260\" x2=\"340\" stroke-width=\"2\" stroke=\"#444444\"/><line x1=\"300\" y1=\"20\" x2=\"300\" y2=\"340\" stroke-width=\"2\" stroke=\"#444444\"/><line y1=\"300\" x1=\"20\" y2=\"300\" x2=\"340\" stroke-width=\"2\" stroke=\"#444444\"/><circle cx=\"20\" cy=\"340\" r=\"16\" stroke=\"#333333\" stroke-width=\"3\" fill=\"white\" /><circle cx=\"20\" cy=\"260\" r=\"16\" stroke=\"#333333\" stroke-width=\"3\" fill=\"white\" /><circle cx=\"20\" cy=\"220\" r=\"16\" stroke=\"#333333\" stroke-width=\"3\" fill=\"white\" /><circle cx=\"20\" cy=\"140\" r=\"16\" stroke=\"#333333\" stroke-width=\"3\" fill=\"black\" /><circle cx=\"20\" cy=\"100\" r=\"16\" stroke=\"#333333\" stroke-width=\"3\" fill=\"white\" /><circle cx=\"20\" cy=\"60\" r=\"16\" stroke=\"#333333\" stroke-width=\"3\" fill=\"white\" /><circle cx=\"20\" cy=\"20\" r=\"16\" stroke=\"#333333\" stroke-width=\"3\" fill=\"white\" /><circle cx=\"60\" cy=\"300\" r=\"16\" stroke=\"#333333\" stroke-width=\"3\" fill=\"white\" /><circle cx=\"60\" cy=\"260\" r=\"16\" stroke=\"#333333\" stroke-width=\"3\" fill=\"white\" /><circle cx=\"60\" cy=\"180\" r=\"16\" stroke=\"#333333\" stroke-width=\"3\" fill=\"white\" /><circle cx=\"60\" cy=\"100\" r=\"16\" stroke=\"#333333\" stroke-width=\"3\" fill=\"white\" /><circle cx=\"60\" cy=\"60\" r=\"16\" stroke=\"#333333\" stroke-width=\"3\" fill=\"white\" /><circle cx=\"100\" cy=\"340\" r=\"16\" stroke=\"#333333\" stroke-width=\"3\" fill=\"white\" /><circle cx=\"100\" cy=\"300\" r=\"16\" stroke=\"#333333\" stroke-width=\"3\" fill=\"white\" /><circle cx=\"100\" cy=\"260\" r=\"16\" stroke=\"#333333\" stroke-width=\"3\" fill=\"white\" /><circle cx=\"100\" cy=\"220\" r=\"16\" stroke=\"#333333\" stroke-width=\"3\" fill=\"white\" /><circle cx=\"100\" cy=\"180\" r=\"16\" stroke=\"#333333\" stroke-width=\"3\" fill=\"white\" /><circle cx=\"100\" cy=\"140\" r=\"16\" stroke=\"#333333\" stroke-width=\"3\" fill=\"white\" /><circle cx=\"100\" cy=\"100\" r=\"16\" stroke=\"#333333\" stroke-width=\"3\" fill=\"white\" /><circle cx=\"100\" cy=\"60\" r=\"16\" stroke=\"#333333\" stroke-width=\"3\" fill=\"black\" /><circle cx=\"100\" cy=\"20\" r=\"16\" stroke=\"#333333\" stroke-width=\"3\" fill=\"black\" /><circle cx=\"140\" cy=\"340\" r=\"16\" stroke=\"#333333\" stroke-width=\"3\" fill=\"black\" /><circle cx=\"140\" cy=\"260\" r=\"16\" stroke=\"#333333\" stroke-width=\"3\" fill=\"white\" /><circle cx=\"140\" cy=\"180\" r=\"16\" stroke=\"#333333\" stroke-width=\"3\" fill=\"white\" /><circle cx=\"140\" cy=\"140\" r=\"16\" stroke=\"#333333\" stroke-width=\"3\" fill=\"white\" /><circle cx=\"140\" cy=\"100\" r=\"16\" stroke=\"#333333\" stroke-width=\"3\" fill=\"black\" /><circle cx=\"140\" cy=\"60\" r=\"16\" stroke=\"#333333\" stroke-width=\"3\" fill=\"black\" /><circle cx=\"140\" cy=\"20\" r=\"16\" stroke=\"#333333\" stroke-width=\"3\" fill=\"black\" /><circle cx=\"180\" cy=\"340\" r=\"16\" stroke=\"#333333\" stroke-width=\"3\" fill=\"black\" /><circle cx=\"180\" cy=\"300\" r=\"16\" stroke=\"#333333\" stroke-width=\"3\" fill=\"black\" /><circle cx=\"180\" cy=\"260\" r=\"16\" stroke=\"#333333\" stroke-width=\"3\" fill=\"black\" /><circle cx=\"180\" cy=\"220\" r=\"16\" stroke=\"#333333\" stroke-width=\"3\" fill=\"black\" /><circle cx=\"180\" cy=\"140\" r=\"16\" stroke=\"#333333\" stroke-width=\"3\" fill=\"white\" /><circle cx=\"180\" cy=\"100\" r=\"16\" stroke=\"#333333\" stroke-width=\"3\" fill=\"black\" /><circle cx=\"180\" cy=\"60\" r=\"16\" stroke=\"#333333\" stroke-width=\"3\" fill=\"black\" /><circle cx=\"180\" cy=\"20\" r=\"16\" stroke=\"#333333\" stroke-width=\"3\" fill=\"black\" /><circle cx=\"220\" cy=\"340\" r=\"16\" stroke=\"#333333\" stroke-width=\"3\" fill=\"white\" /><circle cx=\"220\" cy=\"260\" r=\"16\" stroke=\"#333333\" stroke-width=\"3\" fill=\"white\" /><circle cx=\"220\" cy=\"220\" r=\"16\" stroke=\"#333333\" stroke-width=\"3\" fill=\"black\" /><circle cx=\"220\" cy=\"180\" r=\"16\" stroke=\"#333333\" stroke-width=\"3\" fill=\"white\" /><circle cx=\"220\" cy=\"140\" r=\"16\" stroke=\"#333333\" stroke-width=\"3\" fill=\"white\" /><circle cx=\"220\" cy=\"100\" r=\"16\" stroke=\"#333333\" stroke-width=\"3\" fill=\"white\" /><circle cx=\"220\" cy=\"60\" r=\"16\" stroke=\"#333333\" stroke-width=\"3\" fill=\"white\" /><circle cx=\"220\" cy=\"20\" r=\"16\" stroke=\"#333333\" stroke-width=\"3\" fill=\"black\" /><circle cx=\"260\" cy=\"340\" r=\"16\" stroke=\"#333333\" stroke-width=\"3\" fill=\"white\" /><circle cx=\"260\" cy=\"300\" r=\"16\" stroke=\"#333333\" stroke-width=\"3\" fill=\"white\" /><circle cx=\"260\" cy=\"220\" r=\"16\" stroke=\"#333333\" stroke-width=\"3\" fill=\"white\" /><circle cx=\"260\" cy=\"180\" r=\"16\" stroke=\"#333333\" stroke-width=\"3\" fill=\"black\" /><circle cx=\"260\" cy=\"140\" r=\"16\" stroke=\"#333333\" stroke-width=\"3\" fill=\"white\" /><circle cx=\"260\" cy=\"100\" r=\"16\" stroke=\"#333333\" stroke-width=\"3\" fill=\"black\" /><circle cx=\"260\" cy=\"60\" r=\"16\" stroke=\"#333333\" stroke-width=\"3\" fill=\"white\" /><circle cx=\"260\" cy=\"20\" r=\"16\" stroke=\"#333333\" stroke-width=\"3\" fill=\"black\" /><circle cx=\"300\" cy=\"340\" r=\"16\" stroke=\"#333333\" stroke-width=\"3\" fill=\"white\" /><circle cx=\"300\" cy=\"300\" r=\"16\" stroke=\"#333333\" stroke-width=\"3\" fill=\"white\" /><circle cx=\"300\" cy=\"260\" r=\"16\" stroke=\"#333333\" stroke-width=\"3\" fill=\"white\" /><circle cx=\"300\" cy=\"220\" r=\"16\" stroke=\"#333333\" stroke-width=\"3\" fill=\"black\" /><circle cx=\"300\" cy=\"180\" r=\"16\" stroke=\"#333333\" stroke-width=\"3\" fill=\"black\" /><circle cx=\"300\" cy=\"140\" r=\"16\" stroke=\"#333333\" stroke-width=\"3\" fill=\"black\" /><circle cx=\"300\" cy=\"100\" r=\"16\" stroke=\"#333333\" stroke-width=\"3\" fill=\"black\" /><circle cx=\"300\" cy=\"60\" r=\"16\" stroke=\"#333333\" stroke-width=\"3\" fill=\"black\" /><circle cx=\"300\" cy=\"20\" r=\"16\" stroke=\"#333333\" stroke-width=\"3\" fill=\"black\" /><circle cx=\"340\" cy=\"340\" r=\"16\" stroke=\"#333333\" stroke-width=\"3\" fill=\"white\" /><circle cx=\"340\" cy=\"300\" r=\"16\" stroke=\"#333333\" stroke-width=\"3\" fill=\"white\" /><circle cx=\"340\" cy=\"260\" r=\"16\" stroke=\"#333333\" stroke-width=\"3\" fill=\"black\" /><circle cx=\"340\" cy=\"220\" r=\"16\" stroke=\"#333333\" stroke-width=\"3\" fill=\"black\" /><circle cx=\"340\" cy=\"180\" r=\"16\" stroke=\"#333333\" stroke-width=\"3\" fill=\"white\" /><circle cx=\"340\" cy=\"100\" r=\"16\" stroke=\"#333333\" stroke-width=\"3\" fill=\"black\" /><circle cx=\"340\" cy=\"60\" r=\"16\" stroke=\"#333333\" stroke-width=\"3\" fill=\"black\" /><circle cx=\"340\" cy=\"20\" r=\"16\" stroke=\"#333333\" stroke-width=\"3\" fill=\"black\" /></svg></svg>"
            ]
          },
          "metadata": {}
        },
        {
          "output_type": "stream",
          "name": "stdout",
          "text": [
            "Legal Moves:  ['D2', 'F2', 'D4', 'E5', 'J6', 'B9', 'G3', 'A5', 'B6', 'PASS']\n"
          ]
        },
        {
          "output_type": "error",
          "ename": "AssertionError",
          "evalue": "ignored",
          "traceback": [
            "\u001b[0;31m---------------------------------------------------------------------------\u001b[0m",
            "\u001b[0;31mAssertionError\u001b[0m                            Traceback (most recent call last)",
            "\u001b[0;32m<ipython-input-19-6a44aa3e6739>\u001b[0m in \u001b[0;36m<cell line: 2>\u001b[0;34m()\u001b[0m\n\u001b[1;32m     15\u001b[0m     \u001b[0mcurrentTime\u001b[0m \u001b[0;34m=\u001b[0m \u001b[0mtime\u001b[0m\u001b[0;34m.\u001b[0m\u001b[0mtime\u001b[0m\u001b[0;34m(\u001b[0m\u001b[0;34m)\u001b[0m\u001b[0;34m\u001b[0m\u001b[0;34m\u001b[0m\u001b[0m\n\u001b[1;32m     16\u001b[0m     \u001b[0msys\u001b[0m\u001b[0;34m.\u001b[0m\u001b[0mstdout\u001b[0m \u001b[0;34m=\u001b[0m \u001b[0mstringio\u001b[0m\u001b[0;34m\u001b[0m\u001b[0;34m\u001b[0m\u001b[0m\n\u001b[0;32m---> 17\u001b[0;31m     \u001b[0mmove\u001b[0m \u001b[0;34m=\u001b[0m \u001b[0mplayers\u001b[0m\u001b[0;34m[\u001b[0m\u001b[0mnextplayer\u001b[0m\u001b[0;34m]\u001b[0m\u001b[0;34m.\u001b[0m\u001b[0mgetPlayerMove\u001b[0m\u001b[0;34m(\u001b[0m\u001b[0;34m)\u001b[0m \u001b[0;31m# The move must be given by \"A1\", ... \"J8\" string coordinates (not as an internal move)\u001b[0m\u001b[0;34m\u001b[0m\u001b[0;34m\u001b[0m\u001b[0m\n\u001b[0m\u001b[1;32m     18\u001b[0m     \u001b[0msys\u001b[0m\u001b[0;34m.\u001b[0m\u001b[0mstdout\u001b[0m \u001b[0;34m=\u001b[0m \u001b[0msysstdout\u001b[0m\u001b[0;34m\u001b[0m\u001b[0;34m\u001b[0m\u001b[0m\n\u001b[1;32m     19\u001b[0m     \u001b[0mplayeroutput\u001b[0m \u001b[0;34m=\u001b[0m \u001b[0mstringio\u001b[0m\u001b[0;34m.\u001b[0m\u001b[0mgetvalue\u001b[0m\u001b[0;34m(\u001b[0m\u001b[0;34m)\u001b[0m\u001b[0;34m\u001b[0m\u001b[0;34m\u001b[0m\u001b[0m\n",
            "\u001b[0;32m/content/myPlayer2.py\u001b[0m in \u001b[0;36mgetPlayerMove\u001b[0;34m(self)\u001b[0m\n\u001b[1;32m     31\u001b[0m \u001b[0;34m\u001b[0m\u001b[0m\n\u001b[1;32m     32\u001b[0m         \u001b[0;31m# best_move = monte_carlo_tree_search(self._board,self._mycolor,100)\u001b[0m\u001b[0;34m\u001b[0m\u001b[0;34m\u001b[0m\u001b[0m\n\u001b[0;32m---> 33\u001b[0;31m         \u001b[0mbest_move\u001b[0m \u001b[0;34m=\u001b[0m \u001b[0mmonte_carlo_tree_search\u001b[0m\u001b[0;34m(\u001b[0m\u001b[0mself\u001b[0m\u001b[0;34m.\u001b[0m\u001b[0m_board\u001b[0m\u001b[0;34m,\u001b[0m \u001b[0mself\u001b[0m\u001b[0;34m.\u001b[0m\u001b[0m_mycolor\u001b[0m\u001b[0;34m,\u001b[0m \u001b[0;36m20\u001b[0m\u001b[0;34m)\u001b[0m\u001b[0;34m\u001b[0m\u001b[0;34m\u001b[0m\u001b[0m\n\u001b[0m\u001b[1;32m     34\u001b[0m         \u001b[0mself\u001b[0m\u001b[0;34m.\u001b[0m\u001b[0m_board\u001b[0m\u001b[0;34m.\u001b[0m\u001b[0mpush\u001b[0m\u001b[0;34m(\u001b[0m\u001b[0mbest_move\u001b[0m\u001b[0;34m)\u001b[0m\u001b[0;34m\u001b[0m\u001b[0;34m\u001b[0m\u001b[0m\n\u001b[1;32m     35\u001b[0m         \u001b[0mprint\u001b[0m\u001b[0;34m(\u001b[0m\u001b[0;34m\"I am playing \"\u001b[0m\u001b[0;34m,\u001b[0m \u001b[0mself\u001b[0m\u001b[0;34m.\u001b[0m\u001b[0m_board\u001b[0m\u001b[0;34m.\u001b[0m\u001b[0mmove_to_str\u001b[0m\u001b[0;34m(\u001b[0m\u001b[0mbest_move\u001b[0m\u001b[0;34m)\u001b[0m\u001b[0;34m)\u001b[0m\u001b[0;34m\u001b[0m\u001b[0;34m\u001b[0m\u001b[0m\n",
            "\u001b[0;32m/content/ImprovedMonteCarlo.py\u001b[0m in \u001b[0;36mmonte_carlo_tree_search\u001b[0;34m(board, color, time_limit, max_batch_size)\u001b[0m\n\u001b[1;32m    104\u001b[0m             \u001b[0mfutures\u001b[0m \u001b[0;34m=\u001b[0m \u001b[0;34m[\u001b[0m\u001b[0mexecutor\u001b[0m\u001b[0;34m.\u001b[0m\u001b[0msubmit\u001b[0m\u001b[0;34m(\u001b[0m\u001b[0mworker\u001b[0m\u001b[0;34m,\u001b[0m \u001b[0mroot_node\u001b[0m\u001b[0;34m)\u001b[0m \u001b[0;32mfor\u001b[0m \u001b[0m_\u001b[0m \u001b[0;32min\u001b[0m \u001b[0mrange\u001b[0m\u001b[0;34m(\u001b[0m\u001b[0mmax_batch_size\u001b[0m\u001b[0;34m)\u001b[0m\u001b[0;34m]\u001b[0m\u001b[0;34m\u001b[0m\u001b[0;34m\u001b[0m\u001b[0m\n\u001b[1;32m    105\u001b[0m             \u001b[0;32mfor\u001b[0m \u001b[0mfuture\u001b[0m \u001b[0;32min\u001b[0m \u001b[0mfutures\u001b[0m\u001b[0;34m:\u001b[0m\u001b[0;34m\u001b[0m\u001b[0;34m\u001b[0m\u001b[0m\n\u001b[0;32m--> 106\u001b[0;31m                 \u001b[0mfuture\u001b[0m\u001b[0;34m.\u001b[0m\u001b[0mresult\u001b[0m\u001b[0;34m(\u001b[0m\u001b[0;34m)\u001b[0m\u001b[0;34m\u001b[0m\u001b[0;34m\u001b[0m\u001b[0m\n\u001b[0m\u001b[1;32m    107\u001b[0m \u001b[0;34m\u001b[0m\u001b[0m\n\u001b[1;32m    108\u001b[0m     \u001b[0;31m# Use a more sophisticated endgame scoring method\u001b[0m\u001b[0;34m\u001b[0m\u001b[0;34m\u001b[0m\u001b[0m\n",
            "\u001b[0;32m/usr/lib/python3.9/concurrent/futures/_base.py\u001b[0m in \u001b[0;36mresult\u001b[0;34m(self, timeout)\u001b[0m\n\u001b[1;32m    437\u001b[0m                     \u001b[0;32mraise\u001b[0m \u001b[0mCancelledError\u001b[0m\u001b[0;34m(\u001b[0m\u001b[0;34m)\u001b[0m\u001b[0;34m\u001b[0m\u001b[0;34m\u001b[0m\u001b[0m\n\u001b[1;32m    438\u001b[0m                 \u001b[0;32melif\u001b[0m \u001b[0mself\u001b[0m\u001b[0;34m.\u001b[0m\u001b[0m_state\u001b[0m \u001b[0;34m==\u001b[0m \u001b[0mFINISHED\u001b[0m\u001b[0;34m:\u001b[0m\u001b[0;34m\u001b[0m\u001b[0;34m\u001b[0m\u001b[0m\n\u001b[0;32m--> 439\u001b[0;31m                     \u001b[0;32mreturn\u001b[0m \u001b[0mself\u001b[0m\u001b[0;34m.\u001b[0m\u001b[0m__get_result\u001b[0m\u001b[0;34m(\u001b[0m\u001b[0;34m)\u001b[0m\u001b[0;34m\u001b[0m\u001b[0;34m\u001b[0m\u001b[0m\n\u001b[0m\u001b[1;32m    440\u001b[0m \u001b[0;34m\u001b[0m\u001b[0m\n\u001b[1;32m    441\u001b[0m                 \u001b[0mself\u001b[0m\u001b[0;34m.\u001b[0m\u001b[0m_condition\u001b[0m\u001b[0;34m.\u001b[0m\u001b[0mwait\u001b[0m\u001b[0;34m(\u001b[0m\u001b[0mtimeout\u001b[0m\u001b[0;34m)\u001b[0m\u001b[0;34m\u001b[0m\u001b[0;34m\u001b[0m\u001b[0m\n",
            "\u001b[0;32m/usr/lib/python3.9/concurrent/futures/_base.py\u001b[0m in \u001b[0;36m__get_result\u001b[0;34m(self)\u001b[0m\n\u001b[1;32m    389\u001b[0m         \u001b[0;32mif\u001b[0m \u001b[0mself\u001b[0m\u001b[0;34m.\u001b[0m\u001b[0m_exception\u001b[0m\u001b[0;34m:\u001b[0m\u001b[0;34m\u001b[0m\u001b[0;34m\u001b[0m\u001b[0m\n\u001b[1;32m    390\u001b[0m             \u001b[0;32mtry\u001b[0m\u001b[0;34m:\u001b[0m\u001b[0;34m\u001b[0m\u001b[0;34m\u001b[0m\u001b[0m\n\u001b[0;32m--> 391\u001b[0;31m                 \u001b[0;32mraise\u001b[0m \u001b[0mself\u001b[0m\u001b[0;34m.\u001b[0m\u001b[0m_exception\u001b[0m\u001b[0;34m\u001b[0m\u001b[0;34m\u001b[0m\u001b[0m\n\u001b[0m\u001b[1;32m    392\u001b[0m             \u001b[0;32mfinally\u001b[0m\u001b[0;34m:\u001b[0m\u001b[0;34m\u001b[0m\u001b[0;34m\u001b[0m\u001b[0m\n\u001b[1;32m    393\u001b[0m                 \u001b[0;31m# Break a reference cycle with the exception in self._exception\u001b[0m\u001b[0;34m\u001b[0m\u001b[0;34m\u001b[0m\u001b[0m\n",
            "\u001b[0;32m/usr/lib/python3.9/concurrent/futures/thread.py\u001b[0m in \u001b[0;36mrun\u001b[0;34m(self)\u001b[0m\n\u001b[1;32m     56\u001b[0m \u001b[0;34m\u001b[0m\u001b[0m\n\u001b[1;32m     57\u001b[0m         \u001b[0;32mtry\u001b[0m\u001b[0;34m:\u001b[0m\u001b[0;34m\u001b[0m\u001b[0;34m\u001b[0m\u001b[0m\n\u001b[0;32m---> 58\u001b[0;31m             \u001b[0mresult\u001b[0m \u001b[0;34m=\u001b[0m \u001b[0mself\u001b[0m\u001b[0;34m.\u001b[0m\u001b[0mfn\u001b[0m\u001b[0;34m(\u001b[0m\u001b[0;34m*\u001b[0m\u001b[0mself\u001b[0m\u001b[0;34m.\u001b[0m\u001b[0margs\u001b[0m\u001b[0;34m,\u001b[0m \u001b[0;34m**\u001b[0m\u001b[0mself\u001b[0m\u001b[0;34m.\u001b[0m\u001b[0mkwargs\u001b[0m\u001b[0;34m)\u001b[0m\u001b[0;34m\u001b[0m\u001b[0;34m\u001b[0m\u001b[0m\n\u001b[0m\u001b[1;32m     59\u001b[0m         \u001b[0;32mexcept\u001b[0m \u001b[0mBaseException\u001b[0m \u001b[0;32mas\u001b[0m \u001b[0mexc\u001b[0m\u001b[0;34m:\u001b[0m\u001b[0;34m\u001b[0m\u001b[0;34m\u001b[0m\u001b[0m\n\u001b[1;32m     60\u001b[0m             \u001b[0mself\u001b[0m\u001b[0;34m.\u001b[0m\u001b[0mfuture\u001b[0m\u001b[0;34m.\u001b[0m\u001b[0mset_exception\u001b[0m\u001b[0;34m(\u001b[0m\u001b[0mexc\u001b[0m\u001b[0;34m)\u001b[0m\u001b[0;34m\u001b[0m\u001b[0;34m\u001b[0m\u001b[0m\n",
            "\u001b[0;32m/content/ImprovedMonteCarlo.py\u001b[0m in \u001b[0;36mworker\u001b[0;34m(root_node)\u001b[0m\n\u001b[1;32m     87\u001b[0m \u001b[0;34m\u001b[0m\u001b[0m\n\u001b[1;32m     88\u001b[0m         \u001b[0;32mif\u001b[0m \u001b[0;32mnot\u001b[0m \u001b[0mnode\u001b[0m\u001b[0;34m.\u001b[0m\u001b[0mis_fully_expanded\u001b[0m\u001b[0;34m(\u001b[0m\u001b[0;34m)\u001b[0m\u001b[0;34m:\u001b[0m\u001b[0;34m\u001b[0m\u001b[0;34m\u001b[0m\u001b[0m\n\u001b[0;32m---> 89\u001b[0;31m             \u001b[0mnode\u001b[0m \u001b[0;34m=\u001b[0m \u001b[0mnode\u001b[0m\u001b[0;34m.\u001b[0m\u001b[0mexpand\u001b[0m\u001b[0;34m(\u001b[0m\u001b[0mchoice\u001b[0m\u001b[0;34m(\u001b[0m\u001b[0mnode\u001b[0m\u001b[0;34m.\u001b[0m\u001b[0mboard\u001b[0m\u001b[0;34m.\u001b[0m\u001b[0mlegal_moves\u001b[0m\u001b[0;34m(\u001b[0m\u001b[0;34m)\u001b[0m\u001b[0;34m)\u001b[0m\u001b[0;34m)\u001b[0m\u001b[0;34m\u001b[0m\u001b[0;34m\u001b[0m\u001b[0m\n\u001b[0m\u001b[1;32m     90\u001b[0m \u001b[0;34m\u001b[0m\u001b[0m\n\u001b[1;32m     91\u001b[0m         \u001b[0;32mif\u001b[0m \u001b[0;32mnot\u001b[0m \u001b[0mnode\u001b[0m\u001b[0;34m.\u001b[0m\u001b[0mnn_evaluation\u001b[0m\u001b[0;34m:\u001b[0m\u001b[0;34m\u001b[0m\u001b[0;34m\u001b[0m\u001b[0m\n",
            "\u001b[0;32m/content/ImprovedMonteCarlo.py\u001b[0m in \u001b[0;36mexpand\u001b[0;34m(self, move)\u001b[0m\n\u001b[1;32m     55\u001b[0m         \u001b[0;32mdef\u001b[0m \u001b[0mexpand\u001b[0m\u001b[0;34m(\u001b[0m\u001b[0mself\u001b[0m\u001b[0;34m,\u001b[0m \u001b[0mmove\u001b[0m\u001b[0;34m)\u001b[0m\u001b[0;34m:\u001b[0m\u001b[0;34m\u001b[0m\u001b[0;34m\u001b[0m\u001b[0m\n\u001b[1;32m     56\u001b[0m             \u001b[0mnew_board\u001b[0m \u001b[0;34m=\u001b[0m \u001b[0mdeepcopy\u001b[0m\u001b[0;34m(\u001b[0m\u001b[0mself\u001b[0m\u001b[0;34m.\u001b[0m\u001b[0mboard\u001b[0m\u001b[0;34m)\u001b[0m\u001b[0;34m\u001b[0m\u001b[0;34m\u001b[0m\u001b[0m\n\u001b[0;32m---> 57\u001b[0;31m             \u001b[0mnew_board\u001b[0m\u001b[0;34m.\u001b[0m\u001b[0mpush\u001b[0m\u001b[0;34m(\u001b[0m\u001b[0mmove\u001b[0m\u001b[0;34m)\u001b[0m\u001b[0;34m\u001b[0m\u001b[0;34m\u001b[0m\u001b[0m\n\u001b[0m\u001b[1;32m     58\u001b[0m             \u001b[0mnew_node\u001b[0m \u001b[0;34m=\u001b[0m \u001b[0mNode\u001b[0m\u001b[0;34m(\u001b[0m\u001b[0mnew_board\u001b[0m\u001b[0;34m,\u001b[0m \u001b[0mparent\u001b[0m\u001b[0;34m=\u001b[0m\u001b[0mself\u001b[0m\u001b[0;34m,\u001b[0m \u001b[0mmove\u001b[0m\u001b[0;34m=\u001b[0m\u001b[0mmove\u001b[0m\u001b[0;34m)\u001b[0m\u001b[0;34m\u001b[0m\u001b[0;34m\u001b[0m\u001b[0m\n\u001b[1;32m     59\u001b[0m             \u001b[0mself\u001b[0m\u001b[0;34m.\u001b[0m\u001b[0mchildren\u001b[0m\u001b[0;34m[\u001b[0m\u001b[0mmove\u001b[0m\u001b[0;34m]\u001b[0m \u001b[0;34m=\u001b[0m \u001b[0mnew_node\u001b[0m\u001b[0;34m\u001b[0m\u001b[0;34m\u001b[0m\u001b[0m\n",
            "\u001b[0;32m/content/Goban.py\u001b[0m in \u001b[0;36mpush\u001b[0;34m(self, m)\u001b[0m\n\u001b[1;32m    275\u001b[0m         \u001b[0mpush\u001b[0m\u001b[0;34m:\u001b[0m \u001b[0mused\u001b[0m \u001b[0mto\u001b[0m \u001b[0mpush\u001b[0m \u001b[0ma\u001b[0m \u001b[0mmove\u001b[0m \u001b[0mon\u001b[0m \u001b[0mthe\u001b[0m \u001b[0mboard\u001b[0m\u001b[0;34m.\u001b[0m \u001b[0mMore\u001b[0m \u001b[0mcostly\u001b[0m \u001b[0mthan\u001b[0m \u001b[0mplay_move\u001b[0m\u001b[0;34m(\u001b[0m\u001b[0;34m)\u001b[0m\u001b[0;34m\u001b[0m\u001b[0;34m\u001b[0m\u001b[0m\n\u001b[1;32m    276\u001b[0m         but you can pop it after. Helper for your search tree algorithm'''\n\u001b[0;32m--> 277\u001b[0;31m         \u001b[0;32massert\u001b[0m \u001b[0;32mnot\u001b[0m \u001b[0mself\u001b[0m\u001b[0;34m.\u001b[0m\u001b[0m_gameOver\u001b[0m\u001b[0;34m\u001b[0m\u001b[0;34m\u001b[0m\u001b[0m\n\u001b[0m\u001b[1;32m    278\u001b[0m         \u001b[0mself\u001b[0m\u001b[0;34m.\u001b[0m\u001b[0m_pushBoard\u001b[0m\u001b[0;34m(\u001b[0m\u001b[0;34m)\u001b[0m\u001b[0;34m\u001b[0m\u001b[0;34m\u001b[0m\u001b[0m\n\u001b[1;32m    279\u001b[0m         \u001b[0;32mreturn\u001b[0m \u001b[0mself\u001b[0m\u001b[0;34m.\u001b[0m\u001b[0mplay_move\u001b[0m\u001b[0;34m(\u001b[0m\u001b[0mm\u001b[0m\u001b[0;34m)\u001b[0m\u001b[0;34m\u001b[0m\u001b[0;34m\u001b[0m\u001b[0m\n",
            "\u001b[0;31mAssertionError\u001b[0m: "
          ]
        }
      ],
      "source": [
        "coup = 1\n",
        "while not b.is_game_over():\n",
        "    print(\"Referee Board:\")\n",
        "    clear_output(wait=True)\n",
        "    display(HTML(b.svg()))\n",
        "    #Uncomment this for saving all the PNG images\n",
        "    #svg2png(bytestring=b.svg(),write_to='output-'+str(coup).zfill(4)+'.png')\n",
        "    legals = b.legal_moves() # legal moves are given as internal (flat) coordinates, not A1, A2, ...\n",
        "\n",
        "    print(\"Legal Moves: \", [b.move_to_str(m) for m in legals]) # I have to use this wrapper if I want to print them\n",
        "    nbmoves += 1\n",
        "    otherplayer = (nextplayer + 1) % 2\n",
        "    othercolor = Goban.Board.flip(nextplayercolor)\n",
        "    \n",
        "    currentTime = time.time()\n",
        "    sys.stdout = stringio\n",
        "    move = players[nextplayer].getPlayerMove() # The move must be given by \"A1\", ... \"J8\" string coordinates (not as an internal move)\n",
        "    sys.stdout = sysstdout\n",
        "    playeroutput = stringio.getvalue()\n",
        "    stringio.truncate(0)\n",
        "    stringio.seek(0)\n",
        "    print((\"[Player \"+str(nextplayer) + \"] \").join(playeroutput.splitlines(True)))\n",
        "    outputs[nextplayer] += playeroutput\n",
        "    totalTime[nextplayer] += time.time() - currentTime\n",
        "    print(\"Player \", nextplayercolor, players[nextplayer].getPlayerName(), \"plays: \" + move) #changed \n",
        "\n",
        "    if not Goban.Board.name_to_flat(move) in legals:\n",
        "        print(otherplayer, nextplayer, nextplayercolor)\n",
        "        print(\"Problem: illegal move\")\n",
        "        wrongmovefrom = nextplayercolor\n",
        "        break\n",
        "    b.push(Goban.Board.name_to_flat(move)) # Here I have to internally flatten the move to be able to check it.\n",
        "    players[otherplayer].playOpponentMove(move)\n",
        " \n",
        "    nextplayer = otherplayer\n",
        "    nextplayercolor = othercolor\n",
        "    time.sleep(0.1)\n",
        "    coup += 1\n",
        "\n",
        "print(\"The game is over\")\n",
        "b.prettyPrint()\n",
        "result = b.result()\n",
        "print(\"Time:\", totalTime)\n",
        "print(\"GO Score:\", b.final_go_score())\n",
        "print(\"Winner: \", end=\"\")\n",
        "if wrongmovefrom > 0:\n",
        "    if wrongmovefrom == b._WHITE:\n",
        "        print(\"BLACK\")\n",
        "    elif wrongmovefrom == b._BLACK:\n",
        "        print(\"WHITE\")\n",
        "    else:\n",
        "        print(\"ERROR\")\n",
        "elif result == \"1-0\":\n",
        "    print(\"WHITE\")\n",
        "elif result == \"0-1\":\n",
        "    print(\"BLACK\")\n",
        "else:\n",
        "    print(\"DEUCE\")\n",
        "\n",
        "# To convert png files to animated gif    \n",
        "# convert -delay 10 -loop 0 *.png -background white -alpha remove -alpha off output.gif\n",
        "\n"
      ]
    },
    {
      "cell_type": "code",
      "execution_count": null,
      "metadata": {
        "id": "-g1uAfUHRv4H"
      },
      "outputs": [],
      "source": []
    }
  ],
  "metadata": {
    "kernelspec": {
      "display_name": "Python 3",
      "language": "python",
      "name": "python3"
    },
    "language_info": {
      "codemirror_mode": {
        "name": "ipython",
        "version": 3
      },
      "file_extension": ".py",
      "mimetype": "text/x-python",
      "name": "python",
      "nbconvert_exporter": "python",
      "pygments_lexer": "ipython3",
      "version": "3.6.9"
    },
    "colab": {
      "provenance": []
    }
  },
  "nbformat": 4,
  "nbformat_minor": 0
}